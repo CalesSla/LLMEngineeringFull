{
 "cells": [
  {
   "cell_type": "code",
   "execution_count": 6,
   "metadata": {},
   "outputs": [],
   "source": [
    "import requests\n",
    "from bs4 import BeautifulSoup\n",
    "from IPython.display import Markdown, display"
   ]
  },
  {
   "cell_type": "code",
   "execution_count": 7,
   "metadata": {},
   "outputs": [],
   "source": [
    "OLLAMA_API = \"http://localhost:11434/api/chat\"\n",
    "HEADERS = {\"Content-Type\": \"application/json\"}\n",
    "MODEL = \"llama3.2\""
   ]
  },
  {
   "cell_type": "code",
   "execution_count": 39,
   "metadata": {},
   "outputs": [],
   "source": [
    "system_prompt = \"You are an assistant that analyzes the contents of a website \\\n",
    "and provides a short summary, ignoring text that might be navigation related. \\\n",
    "Respond in markdown.\"\n",
    "\n",
    "messages = [\n",
    "    {\"role\": \"system\", \"content\": system_prompt},\n",
    "    {\"role\": \"user\", \"content\": \"Describe some of the business applications of Generative AI\"}\n",
    "]\n",
    "\n",
    "payload = {\n",
    "    \"model\": MODEL,\n",
    "    \"messages\": messages,\n",
    "    \"stream\": False\n",
    "}"
   ]
  },
  {
   "cell_type": "code",
   "execution_count": 15,
   "metadata": {},
   "outputs": [
    {
     "name": "stdout",
     "output_type": "stream",
     "text": [
      "**Business Applications of Generative AI**\n",
      "=============================================\n",
      "\n",
      "Generative AI has numerous business applications across various industries. Here are some examples:\n",
      "\n",
      "### 1. **Product Design and Development**\n",
      "\n",
      "*   **Product Prototyping**: Use generative AI to create 3D models, prototypes, and product designs for manufacturing.\n",
      "*   **Design Optimization**: Employ generative AI algorithms to optimize product design for performance, aesthetics, and cost.\n",
      "\n",
      "### 2. **Content Generation**\n",
      "\n",
      "*   **Artificial Content Creation**: Generate high-quality content such as images, videos, music, and even entire articles using generative AI models.\n",
      "*   **Automated Copywriting**: Use generative AI to automate copywriting tasks, such as generating product descriptions, social media posts, and email newsletters.\n",
      "\n",
      "### 3. **Marketing and Advertising**\n",
      "\n",
      "*   **Personalized Advertisements**: Employ generative AI algorithms to create personalized advertisements based on user behavior and preferences.\n",
      "*   **Social Media Content Generation**: Use generative AI to generate high-quality social media content such as images, videos, and captions.\n",
      "\n",
      "### 4. **Customer Service and Support**\n",
      "\n",
      "*   **Chatbots and Virtual Assistants**: Develop chatbots and virtual assistants that use generative AI to provide personalized customer support.\n",
      "*   **Automated Response Generation**: Use generative AI algorithms to automate response generation for common customer inquiries.\n",
      "\n",
      "### 5. **Financial Services and Trading**\n",
      "\n",
      "*   **Predictive Analytics**: Employ generative AI models to analyze large datasets and make predictions about market trends and future financial outcomes.\n",
      "*   **Risk Management**: Use generative AI algorithms to identify potential risks and develop strategies for mitigating them.\n",
      "\n",
      "### 6. **Education and Training**\n",
      "\n",
      "*   **Personalized Learning**: Develop personalized learning platforms that use generative AI to tailor education content to individual students' needs.\n",
      "*   **Automated Grading**: Use generative AI algorithms to automate grading tasks, freeing up instructors to focus on teaching and mentoring.\n",
      "\n",
      "### 7. **Healthcare and Biotechnology**\n",
      "\n",
      "*   **Medical Imaging Analysis**: Employ generative AI models to analyze medical images and identify potential health risks or abnormalities.\n",
      "*   **Personalized Medicine**: Develop personalized medicine platforms that use generative AI to tailor treatment plans to individual patients' needs.\n",
      "\n",
      "These are just a few examples of the many business applications of Generative AI. As the technology continues to evolve, we can expect to see even more innovative uses across various industries.\n"
     ]
    }
   ],
   "source": [
    "response = requests.post(OLLAMA_API, json=payload, headers=HEADERS)\n",
    "print(response.json()[\"message\"][\"content\"])"
   ]
  },
  {
   "cell_type": "code",
   "execution_count": 40,
   "metadata": {},
   "outputs": [
    {
     "name": "stdout",
     "output_type": "stream",
     "text": [
      "**Generative AI Business Applications**\n",
      "=====================================\n",
      "\n",
      "### **Content Generation**\n",
      "\n",
      "*   **Automated Content Creation**: Generative AI can generate high-quality content such as articles, blog posts, social media posts, and product descriptions, saving time and resources for businesses.\n",
      "*   **Personalized Content**: AI-generated content can be tailored to individual customers' preferences, increasing engagement and conversion rates.\n",
      "\n",
      "### **Design and Creativity**\n",
      "\n",
      "*   **Logo and Brand Identity Generation**: Generative AI can create unique logo designs and brand identities, helping businesses establish a distinct visual identity.\n",
      "*   **Product Design and Prototyping**: AI-powered design tools can generate 3D models and prototypes for product designers, streamlining the design process.\n",
      "\n",
      "### **Marketing and Advertising**\n",
      "\n",
      "*   **Chatbot and Virtual Assistant Development**: Generative AI can be used to create advanced chatbots and virtual assistants that provide personalized customer support and sales assistance.\n",
      "*   **Targeted Advertisements**: AI-generated ad creative, such as images and videos, can be tailored to specific demographics and interests, improving ad effectiveness.\n",
      "\n",
      "### **Data Analysis and Science**\n",
      "\n",
      "*   **Predictive Analytics**: Generative AI models can analyze large datasets and generate predictions on future trends and patterns, helping businesses make data-driven decisions.\n",
      "*   **Anomaly Detection**: AI-powered systems can identify unusual patterns in data, enabling businesses to detect potential security threats or operational inefficiencies.\n",
      "\n",
      "### **Operations and Efficiency**\n",
      "\n",
      "*   **Automated Workflow Generation**: Generative AI can create customized workflows for businesses, streamlining processes and reducing manual labor.\n",
      "*   **Predictive Maintenance**: AI-powered systems can analyze equipment sensor data to predict when maintenance is needed, reducing downtime and increasing overall efficiency.\n"
     ]
    }
   ],
   "source": [
    "import ollama\n",
    "\n",
    "response = ollama.chat(model=MODEL, messages=messages)\n",
    "print(response[\"message\"][\"content\"])"
   ]
  },
  {
   "cell_type": "code",
   "execution_count": 43,
   "metadata": {},
   "outputs": [],
   "source": [
    "class Website:\n",
    "    url: str\n",
    "    title: str\n",
    "    text: str\n",
    "\n",
    "    def __init__(self, url):\n",
    "        self.url = url\n",
    "        response = requests.get(url)\n",
    "        soup = BeautifulSoup(response.content, \"html.parser\")\n",
    "        self.title = soup.title.string if soup.title else \"No title found\"\n",
    "        for irrelevant in soup.body([\"script\", \"style\", \"img\", \"input\"]):\n",
    "            irrelevant.decompose()\n",
    "        self.text = soup.body.get_text(separator=\"\\n\", strip=True)\n",
    "\n",
    "ed = Website(\"https://edwarddonner.com\")"
   ]
  },
  {
   "cell_type": "code",
   "execution_count": 44,
   "metadata": {},
   "outputs": [],
   "source": [
    "system_prompt = \"You are an assistant that analyzes the contents of a website \\\n",
    "and provides a short summary, ignoring text that might be navigation related. \\\n",
    "Respond in markdown.\"\n",
    "\n",
    "\n",
    "def user_prompt_for(website):\n",
    "    user_prompt = f\"You are looking at a website titled {website.title}\"\n",
    "    user_prompt += \"\\nThe contents of this website is as follows; \\\n",
    "    please provide a short summary of this website in markdown. \\\n",
    "    If it includes news or announcements, then summarize these too.\\n\\n\"\n",
    "    user_prompt += website.text \n",
    "    return user_prompt\n",
    "\n",
    "\n",
    "def messages_for(website):\n",
    "    return [\n",
    "        {\"role\": \"system\", \"content\": system_prompt},\n",
    "        {\"role\": \"user\", \"content\": user_prompt_for(website)}\n",
    "    ]\n",
    "\n",
    "\n",
    "def summarize(url):\n",
    "    website = Website(url)\n",
    "    response = ollama.chat(model=\"llama3.2\", messages=messages_for(website))\n",
    "    return response[\"message\"][\"content\"]"
   ]
  },
  {
   "cell_type": "code",
   "execution_count": 45,
   "metadata": {},
   "outputs": [
    {
     "data": {
      "text/plain": [
       "'**Summary**\\n=--------\\n\\nThe website \"Home - Edward Donner\" is the personal blog of Ed, a co-founder and CTO of Nebula.io, an AI startup applying AI to help people discover their potential. The site includes:\\n\\n*   Personal anecdotes about coding, DJing, and music production\\n*   Updates on his work at Nebula.io and its patented matching model for talent sourcing\\n*   News announcements:\\n    *   \"Welcome, SuperDataScientists!\" (December 21, 2024)\\n    *   \"Mastering AI and LLM Engineering – Resources\" (October 16, 2024)\\n    *   \"From Software Engineer to AI Data Scientist – resources\" (August 6, 2024)'"
      ]
     },
     "execution_count": 45,
     "metadata": {},
     "output_type": "execute_result"
    }
   ],
   "source": [
    "summarize(\"https://edwarddonner.com\")"
   ]
  },
  {
   "cell_type": "code",
   "execution_count": 30,
   "metadata": {},
   "outputs": [],
   "source": []
  },
  {
   "cell_type": "code",
   "execution_count": null,
   "metadata": {},
   "outputs": [],
   "source": []
  },
  {
   "cell_type": "code",
   "execution_count": null,
   "metadata": {},
   "outputs": [],
   "source": []
  },
  {
   "cell_type": "code",
   "execution_count": null,
   "metadata": {},
   "outputs": [],
   "source": []
  }
 ],
 "metadata": {
  "kernelspec": {
   "display_name": "llms",
   "language": "python",
   "name": "python3"
  },
  "language_info": {
   "codemirror_mode": {
    "name": "ipython",
    "version": 3
   },
   "file_extension": ".py",
   "mimetype": "text/x-python",
   "name": "python",
   "nbconvert_exporter": "python",
   "pygments_lexer": "ipython3",
   "version": "3.11.11"
  }
 },
 "nbformat": 4,
 "nbformat_minor": 2
}
